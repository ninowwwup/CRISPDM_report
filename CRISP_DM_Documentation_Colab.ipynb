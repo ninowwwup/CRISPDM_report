{
  "nbformat": 4,
  "nbformat_minor": 0,
  "metadata": {
    "colab": {
      "provenance": [],
      "collapsed_sections": [
        "paqc1jjro5nz",
        "XIOyWPa6pIXT",
        "v-ailHrApOqw",
        "rmlItloCqAN1",
        "KoUmnuXWqRJk",
        "EtrYdt-SqbBm",
        "y_6iL6Adqd6V",
        "R8GS9CWEqiXs",
        "uowczxEdqlHL",
        "W4_WIdRGqpra",
        "AdFytB0pqvJd",
        "MKZfW0RiqzUz",
        "ipjCSUXHq3Lz",
        "p_6emR-Pq6gj",
        "zAKaGnV4pzR2",
        "7yf9gkXOp1Jd",
        "KToOwUlkp3E0"
      ],
      "toc_visible": true,
      "include_colab_link": true
    },
    "kernelspec": {
      "name": "python3",
      "display_name": "Python 3"
    },
    "language_info": {
      "name": "python"
    }
  },
  "cells": [
    {
      "cell_type": "markdown",
      "metadata": {
        "id": "view-in-github",
        "colab_type": "text"
      },
      "source": [
        "<a href=\"https://colab.research.google.com/github/ninowwwup/CRISPDM_report/blob/main/CRISP_DM_Documentation_Colab.ipynb\" target=\"_parent\"><img src=\"https://colab.research.google.com/assets/colab-badge.svg\" alt=\"Open In Colab\"/></a>"
      ]
    },
    {
      "cell_type": "markdown",
      "source": [
        "# 🔶Business Understanding"
      ],
      "metadata": {
        "id": "paqc1jjro5nz"
      }
    },
    {
      "cell_type": "markdown",
      "source": [
        "## 🔸Determine Business Objective"
      ],
      "metadata": {
        "id": "q3GNp-YhIhsT"
      }
    },
    {
      "cell_type": "markdown",
      "source": [
        "### ~ Background"
      ],
      "metadata": {
        "id": "8_P3DPr3Iycj"
      }
    },
    {
      "cell_type": "markdown",
      "source": [
        "### ~ Background Business Objective"
      ],
      "metadata": {
        "id": "7hfvHcxdRd12"
      }
    },
    {
      "cell_type": "markdown",
      "source": [
        "###~ Business Success Criteria"
      ],
      "metadata": {
        "id": "_jJF1XK8I51Z"
      }
    },
    {
      "cell_type": "markdown",
      "source": [
        "## 🔸Access Situation"
      ],
      "metadata": {
        "id": "7n_4xfkIJQP3"
      }
    },
    {
      "cell_type": "markdown",
      "source": [
        "###~ Inventory of Resources"
      ],
      "metadata": {
        "id": "HgeNmA93JWDJ"
      }
    },
    {
      "cell_type": "markdown",
      "source": [
        "###~ Requirements, Assumptions and Constraints"
      ],
      "metadata": {
        "id": "55o3eDJrJhHm"
      }
    },
    {
      "cell_type": "markdown",
      "source": [
        "###~ Risks and Contingences Terminology"
      ],
      "metadata": {
        "id": "K91uV2QeRrd3"
      }
    },
    {
      "cell_type": "markdown",
      "source": [
        "###~ Costs and Benefits"
      ],
      "metadata": {
        "id": "IdIsVf_9SBW2"
      }
    },
    {
      "cell_type": "markdown",
      "source": [
        "## 🔸Determine Data Mining Goals"
      ],
      "metadata": {
        "id": "X2Rg431JJyiq"
      }
    },
    {
      "cell_type": "markdown",
      "source": [
        "###~ Data Mining Goals"
      ],
      "metadata": {
        "id": "wYig2QpZJ4U2"
      }
    },
    {
      "cell_type": "markdown",
      "source": [
        "###~ Data Mining Success Criteria"
      ],
      "metadata": {
        "id": "f76MJbiGJ7SG"
      }
    },
    {
      "cell_type": "markdown",
      "source": [
        "## 🔸Produce Project Plain"
      ],
      "metadata": {
        "id": "PfKOnJokKB6c"
      }
    },
    {
      "cell_type": "markdown",
      "source": [
        "###~ Project Plain"
      ],
      "metadata": {
        "id": "U-m2WtyWKGol"
      }
    },
    {
      "cell_type": "markdown",
      "source": [
        "### ~ Initial Assessment of Tools and Techniques"
      ],
      "metadata": {
        "id": "JQOxfsrmKNpW"
      }
    },
    {
      "cell_type": "markdown",
      "source": [
        "# 🔶Data Understanding"
      ],
      "metadata": {
        "id": "XIOyWPa6pIXT"
      }
    },
    {
      "cell_type": "markdown",
      "source": [
        "## 🔸Collect Initial Data"
      ],
      "metadata": {
        "id": "Vy-utrMNLNS6"
      }
    },
    {
      "cell_type": "markdown",
      "source": [
        "###~ Initial Data Collection Report"
      ],
      "metadata": {
        "id": "btlR2r3kLOxT"
      }
    },
    {
      "cell_type": "markdown",
      "source": [
        "## 🔸Describe Data"
      ],
      "metadata": {
        "id": "7lvLXb4uLg5f"
      }
    },
    {
      "cell_type": "markdown",
      "source": [
        "###~ Data Description Report"
      ],
      "metadata": {
        "id": "8HBNTzicLlxn"
      }
    },
    {
      "cell_type": "markdown",
      "source": [
        "## 🔸Explore Data"
      ],
      "metadata": {
        "id": "DkaiQwtxLtrX"
      }
    },
    {
      "cell_type": "markdown",
      "source": [
        "###~ Data Exploration Report"
      ],
      "metadata": {
        "id": "edm08g2uL0Pv"
      }
    },
    {
      "cell_type": "markdown",
      "source": [
        "## 🔸Verify Data Quality"
      ],
      "metadata": {
        "id": "8NgOLCLxL5WG"
      }
    },
    {
      "cell_type": "markdown",
      "source": [
        "###~ Data Quality Report"
      ],
      "metadata": {
        "id": "P1V0FhzxL_Ns"
      }
    },
    {
      "cell_type": "markdown",
      "source": [
        "# 🔶Data Preparation"
      ],
      "metadata": {
        "id": "v-ailHrApOqw"
      }
    },
    {
      "cell_type": "markdown",
      "source": [
        "- Dataset"
      ],
      "metadata": {
        "id": "-ytslFy0pYBG"
      }
    },
    {
      "cell_type": "markdown",
      "source": [
        "- Data Description"
      ],
      "metadata": {
        "id": "XTEAw-uspeRP"
      }
    },
    {
      "cell_type": "markdown",
      "source": [
        "## 🔸Select Data"
      ],
      "metadata": {
        "id": "rmlItloCqAN1"
      }
    },
    {
      "cell_type": "markdown",
      "source": [
        "### ~ Rationale for Inclusion / Exclusion"
      ],
      "metadata": {
        "id": "KoUmnuXWqRJk"
      }
    },
    {
      "cell_type": "markdown",
      "source": [
        "## 🔸Clean Data"
      ],
      "metadata": {
        "id": "EtrYdt-SqbBm"
      }
    },
    {
      "cell_type": "markdown",
      "source": [
        "### ~ Data Cleanning Report "
      ],
      "metadata": {
        "id": "y_6iL6Adqd6V"
      }
    },
    {
      "cell_type": "markdown",
      "source": [
        "## 🔸Construct Data"
      ],
      "metadata": {
        "id": "R8GS9CWEqiXs"
      }
    },
    {
      "cell_type": "markdown",
      "source": [
        "### ~ Derived Attributes"
      ],
      "metadata": {
        "id": "uowczxEdqlHL"
      }
    },
    {
      "cell_type": "markdown",
      "source": [
        "### ~ Generated Records"
      ],
      "metadata": {
        "id": "W4_WIdRGqpra"
      }
    },
    {
      "cell_type": "markdown",
      "source": [
        "## 🔸Integrate Data"
      ],
      "metadata": {
        "id": "AdFytB0pqvJd"
      }
    },
    {
      "cell_type": "markdown",
      "source": [
        "### ~ Merged Data"
      ],
      "metadata": {
        "id": "MKZfW0RiqzUz"
      }
    },
    {
      "cell_type": "markdown",
      "source": [
        "## 🔸Format Data"
      ],
      "metadata": {
        "id": "ipjCSUXHq3Lz"
      }
    },
    {
      "cell_type": "markdown",
      "source": [
        "### ~ Reformatted Data"
      ],
      "metadata": {
        "id": "p_6emR-Pq6gj"
      }
    },
    {
      "cell_type": "markdown",
      "source": [
        "# 🔶Modeling"
      ],
      "metadata": {
        "id": "zAKaGnV4pzR2"
      }
    },
    {
      "cell_type": "markdown",
      "source": [
        "## 🔸Select Modeling Techniques"
      ],
      "metadata": {
        "id": "5XeSMhF5MuL9"
      }
    },
    {
      "cell_type": "markdown",
      "source": [
        "### ~ Modeling Technique"
      ],
      "metadata": {
        "id": "_M2gMxqhM2Ys"
      }
    },
    {
      "cell_type": "markdown",
      "source": [
        "### ~ Modeling Assumptions"
      ],
      "metadata": {
        "id": "LxFgJydEM717"
      }
    },
    {
      "cell_type": "markdown",
      "source": [
        "## 🔸Generate Test Design"
      ],
      "metadata": {
        "id": "4_sHTC6sNDBj"
      }
    },
    {
      "cell_type": "markdown",
      "source": [
        "### ~ Test Design"
      ],
      "metadata": {
        "id": "_EaMeFRKNIos"
      }
    },
    {
      "cell_type": "markdown",
      "source": [
        "## 🔸Build Model\n"
      ],
      "metadata": {
        "id": "33549NYdNNID"
      }
    },
    {
      "cell_type": "markdown",
      "source": [
        "### ~ Parameter Settings"
      ],
      "metadata": {
        "id": "0UIY7G8KNQ7k"
      }
    },
    {
      "cell_type": "markdown",
      "source": [
        "### ~ Models"
      ],
      "metadata": {
        "id": "YtgFlmaLNU8L"
      }
    },
    {
      "cell_type": "markdown",
      "source": [
        "### ~ Model Descriptions"
      ],
      "metadata": {
        "id": "89BB_pGHNbuL"
      }
    },
    {
      "cell_type": "markdown",
      "source": [
        "## 🔸Assess Model\n"
      ],
      "metadata": {
        "id": "aBtQAy5mNhdy"
      }
    },
    {
      "cell_type": "markdown",
      "source": [
        "### ~ Model Assessment"
      ],
      "metadata": {
        "id": "Oo7Y77d1Nkni"
      }
    },
    {
      "cell_type": "markdown",
      "source": [
        "### ~ Revised Parameter Settings"
      ],
      "metadata": {
        "id": "ZFNCEv9FNokR"
      }
    },
    {
      "cell_type": "markdown",
      "source": [
        "# 🔶Evaluation"
      ],
      "metadata": {
        "id": "7yf9gkXOp1Jd"
      }
    },
    {
      "cell_type": "markdown",
      "source": [
        "## 🔸Evaluate Results\n"
      ],
      "metadata": {
        "id": "elf-KKDaOBTJ"
      }
    },
    {
      "cell_type": "markdown",
      "source": [
        "### ~ Assessment of Data"
      ],
      "metadata": {
        "id": "9QJ-lR4KOOwY"
      }
    },
    {
      "cell_type": "markdown",
      "source": [
        "### ~ Mining Results W.R.T."
      ],
      "metadata": {
        "id": "nBDpEj_vOSOI"
      }
    },
    {
      "cell_type": "markdown",
      "source": [
        "### ~ Business Success Criteria"
      ],
      "metadata": {
        "id": "7T8IAA7EOYvQ"
      }
    },
    {
      "cell_type": "markdown",
      "source": [
        "### ~ Approved Models"
      ],
      "metadata": {
        "id": "zdtCk82fOis3"
      }
    },
    {
      "cell_type": "markdown",
      "source": [
        "## 🔸Review Process\n"
      ],
      "metadata": {
        "id": "nHmD9rtiOnov"
      }
    },
    {
      "cell_type": "markdown",
      "source": [
        "### ~ Review of Process"
      ],
      "metadata": {
        "id": "y-bOl-GTOqs_"
      }
    },
    {
      "cell_type": "markdown",
      "source": [
        "## 🔸Determine Next Steps\n"
      ],
      "metadata": {
        "id": "_UoywUz-OwjX"
      }
    },
    {
      "cell_type": "markdown",
      "source": [
        "### ~ List of Possible Actions Decision"
      ],
      "metadata": {
        "id": "H_3z-q9jOzRf"
      }
    },
    {
      "cell_type": "markdown",
      "source": [
        "# 🔶Deployment"
      ],
      "metadata": {
        "id": "KToOwUlkp3E0"
      }
    },
    {
      "cell_type": "markdown",
      "source": [
        "## 🔸Plan Deployment"
      ],
      "metadata": {
        "id": "niemL3PlPYIt"
      }
    },
    {
      "cell_type": "markdown",
      "source": [
        "### ~ Deployment Plan"
      ],
      "metadata": {
        "id": "gbEYDm_OPd7N"
      }
    },
    {
      "cell_type": "markdown",
      "source": [
        "## 🔸Plan Monitoring and Maintenance"
      ],
      "metadata": {
        "id": "pOhjtpaQPh6E"
      }
    },
    {
      "cell_type": "markdown",
      "source": [
        "### ~ Monitoring and Maintenance Plan"
      ],
      "metadata": {
        "id": "rlCeFn7TPpUU"
      }
    },
    {
      "cell_type": "markdown",
      "source": [
        "## 🔸Produce Final Report"
      ],
      "metadata": {
        "id": "Q_bcsSKhPvRT"
      }
    },
    {
      "cell_type": "markdown",
      "source": [
        "### ~ Final Report"
      ],
      "metadata": {
        "id": "36xe3UTpPzdM"
      }
    },
    {
      "cell_type": "markdown",
      "source": [
        "### ~ Final Presentation"
      ],
      "metadata": {
        "id": "vLftxZuHP3E7"
      }
    },
    {
      "cell_type": "markdown",
      "source": [
        "## 🔸Review Project"
      ],
      "metadata": {
        "id": "AnNTAWSQP6r7"
      }
    },
    {
      "cell_type": "markdown",
      "source": [
        "### ~ Experience Documentation"
      ],
      "metadata": {
        "id": "L9UzilZTP_0s"
      }
    }
  ]
}